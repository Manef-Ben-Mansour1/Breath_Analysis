{
 "cells": [
  {
   "cell_type": "markdown",
   "id": "3ee2cd93-5cdb-4102-904d-b94e5da226d9",
   "metadata": {},
   "source": [
    "# Imports"
   ]
  },
  {
   "cell_type": "code",
   "execution_count": 3,
   "id": "20b49aee-c9b3-4a1c-a6c6-552df86f440e",
   "metadata": {},
   "outputs": [],
   "source": [
    "import os\n",
    "import pandas as pd\n",
    "import numpy as np\n",
    "import tensorflow as tf\n",
    "import librosa\n",
    "import librosa.display\n",
    "import matplotlib.pyplot as plt\n",
    "\n",
    "from sklearn.preprocessing import LabelEncoder\n",
    "from tensorflow.keras.utils import to_categorical\n",
    "from tensorflow.keras.applications import ResNet50\n",
    "from tensorflow.keras.layers import Input, Dense, GlobalAveragePooling2D\n",
    "from tensorflow.keras.models import Model\n",
    "import pickle\n",
    "import seaborn as sns\n",
    "from sklearn.metrics import (\n",
    "    classification_report, confusion_matrix, roc_curve, auc,\n",
    "    precision_recall_curve, f1_score\n",
    ")\n",
    "from sklearn.preprocessing import label_binarize\n",
    "from itertools import cycle\n",
    "from tensorflow.keras.metrics import Precision, Recall"
   ]
  },
  {
   "cell_type": "markdown",
   "id": "d367341b-31e4-4d90-9710-8a2563c1558c",
   "metadata": {},
   "source": [
    "# Configurations"
   ]
  },
  {
   "cell_type": "code",
   "execution_count": 37,
   "id": "c0eef023-f4dd-4215-a207-c445bd0cb236",
   "metadata": {},
   "outputs": [],
   "source": [
    "ANNOTATION_FILE = \"annotation.csv\" \n",
    "AUDIO_FOLDER = \"./ICBHI_final_database_preprocessed_normalized\" \n",
    "IMG_HEIGHT, IMG_WIDTH = 224, 224\n",
    "BATCH_SIZE = 16\n",
    "EPOCHS = 20"
   ]
  },
  {
   "cell_type": "markdown",
   "id": "6429d986-781e-485a-b5d3-b2937a530f95",
   "metadata": {},
   "source": [
    "# Load annotations"
   ]
  },
  {
   "cell_type": "code",
   "execution_count": 5,
   "id": "1623105a-8172-4d05-946a-0cf3dbfe27c9",
   "metadata": {},
   "outputs": [],
   "source": [
    "annotations = pd.read_csv(ANNOTATION_FILE, sep=\"\\t\", header=None, names=[\"id\", \"label\"])\n",
    "id_to_label = dict(zip(annotations.id.astype(str), annotations.label))"
   ]
  },
  {
   "cell_type": "markdown",
   "id": "d608c769-a5a7-46f6-acd5-74491ed45e29",
   "metadata": {},
   "source": [
    "# Process audio to spectrogram"
   ]
  },
  {
   "cell_type": "code",
   "execution_count": 6,
   "id": "349dbb9c-738e-41bd-be6c-963dcebfa8ac",
   "metadata": {},
   "outputs": [],
   "source": [
    "def wav_to_mel_spectrogram(file_path):\n",
    "    y, sr = librosa.load(file_path, sr=None)\n",
    "    mels = librosa.feature.melspectrogram(y=y, sr=sr, n_mels=128)\n",
    "    mels_db = librosa.power_to_db(mels, ref=np.max)\n",
    "    return mels_db"
   ]
  },
  {
   "cell_type": "code",
   "execution_count": 7,
   "id": "16c76c09-d6f6-4576-bcc8-49fa0530e293",
   "metadata": {},
   "outputs": [
    {
     "name": "stdout",
     "output_type": "stream",
     "text": [
      "Processing data...\n"
     ]
    }
   ],
   "source": [
    "def create_dataset():\n",
    "    X, y = [], []\n",
    "    for fname in os.listdir(AUDIO_FOLDER):\n",
    "        if fname.endswith(\".wav\"):\n",
    "            patient_id = fname.split(\"_\")[0]\n",
    "            if patient_id in id_to_label:\n",
    "                file_path = os.path.join(AUDIO_FOLDER, fname)\n",
    "                mel = wav_to_mel_spectrogram(file_path)\n",
    "                mel = tf.image.resize(mel[..., np.newaxis], (IMG_HEIGHT, IMG_WIDTH)).numpy()\n",
    "                mel = np.repeat(mel, 3, axis=-1)  \n",
    "                X.append(mel)\n",
    "                y.append(id_to_label[patient_id])\n",
    "    return np.array(X), np.array(y)\n",
    "\n",
    "print(\"Processing data...\")\n",
    "X, y = create_dataset()"
   ]
  },
  {
   "cell_type": "markdown",
   "id": "d1401ce1-9f5c-4327-9a9b-90daebe18982",
   "metadata": {},
   "source": [
    "# Encode labels"
   ]
  },
  {
   "cell_type": "code",
   "execution_count": 8,
   "id": "3c7d4332-793c-4956-993b-398c0a45694d",
   "metadata": {},
   "outputs": [],
   "source": [
    "label_encoder = LabelEncoder()\n",
    "y_encoded = label_encoder.fit_transform(y)\n",
    "y_categorical = to_categorical(y_encoded)"
   ]
  },
  {
   "cell_type": "markdown",
   "id": "8f92f4fb-fb9a-49fa-9fc4-3804530a17f8",
   "metadata": {},
   "source": [
    "# Train/Test split"
   ]
  },
  {
   "cell_type": "code",
   "execution_count": 9,
   "id": "55810d88-d8ff-4fd8-888a-7d702d9083f4",
   "metadata": {},
   "outputs": [],
   "source": [
    "from sklearn.model_selection import train_test_split\n",
    "X_train, X_val, y_train, y_val = train_test_split(X, y_categorical, test_size=0.2, random_state=42, stratify=y_encoded)"
   ]
  },
  {
   "cell_type": "markdown",
   "id": "2c0fedd4-169f-4b35-9c18-2c0b5c4235e7",
   "metadata": {},
   "source": [
    "# Build model"
   ]
  },
  {
   "cell_type": "code",
   "execution_count": 2,
   "id": "5b279bca-175e-4b0c-9882-f95165854a2c",
   "metadata": {},
   "outputs": [
    {
     "ename": "NameError",
     "evalue": "name 'IMG_HEIGHT' is not defined",
     "output_type": "error",
     "traceback": [
      "\u001b[1;31m---------------------------------------------------------------------------\u001b[0m",
      "\u001b[1;31mNameError\u001b[0m                                 Traceback (most recent call last)",
      "Cell \u001b[1;32mIn[2], line 2\u001b[0m\n\u001b[0;32m      1\u001b[0m \u001b[38;5;28;01mfrom\u001b[39;00m \u001b[38;5;21;01mtensorflow\u001b[39;00m\u001b[38;5;21;01m.\u001b[39;00m\u001b[38;5;21;01mkeras\u001b[39;00m\u001b[38;5;21;01m.\u001b[39;00m\u001b[38;5;21;01mmetrics\u001b[39;00m \u001b[38;5;28;01mimport\u001b[39;00m Precision, Recall\n\u001b[1;32m----> 2\u001b[0m base_model \u001b[38;5;241m=\u001b[39m ResNet50(include_top\u001b[38;5;241m=\u001b[39m\u001b[38;5;28;01mFalse\u001b[39;00m, input_shape\u001b[38;5;241m=\u001b[39m(\u001b[43mIMG_HEIGHT\u001b[49m, IMG_WIDTH, \u001b[38;5;241m3\u001b[39m), weights\u001b[38;5;241m=\u001b[39m\u001b[38;5;124m\"\u001b[39m\u001b[38;5;124mimagenet\u001b[39m\u001b[38;5;124m\"\u001b[39m)\n\u001b[0;32m      3\u001b[0m base_model\u001b[38;5;241m.\u001b[39mtrainable \u001b[38;5;241m=\u001b[39m \u001b[38;5;28;01mFalse\u001b[39;00m\n\u001b[0;32m      5\u001b[0m x \u001b[38;5;241m=\u001b[39m GlobalAveragePooling2D()(base_model\u001b[38;5;241m.\u001b[39moutput)\n",
      "\u001b[1;31mNameError\u001b[0m: name 'IMG_HEIGHT' is not defined"
     ]
    }
   ],
   "source": [
    "base_model = ResNet50(include_top=False, input_shape=(IMG_HEIGHT, IMG_WIDTH, 3), weights=\"imagenet\")\n",
    "base_model.trainable = False\n",
    "\n",
    "x = GlobalAveragePooling2D()(base_model.output)\n",
    "x = Dense(128, activation='relu')(x)\n",
    "out = Dense(len(label_encoder.classes_), activation='softmax')(x)\n",
    "\n",
    "model = Model(inputs=base_model.input, outputs=out)\n",
    "model.compile(optimizer='adam', loss='categorical_crossentropy', metrics=['accuracy',Recall(),Precision()])\n",
    "\n",
    "model.summary()"
   ]
  },
  {
   "cell_type": "markdown",
   "id": "9ad134e3-cda8-4c1f-b06e-ecb16bb116e0",
   "metadata": {},
   "source": [
    "# Train"
   ]
  },
  {
   "cell_type": "code",
   "execution_count": 25,
   "id": "3befaeb7-d8dd-4980-bc74-f59a41209af0",
   "metadata": {},
   "outputs": [
    {
     "data": {
      "text/plain": [
       "(284, 8)"
      ]
     },
     "execution_count": 25,
     "metadata": {},
     "output_type": "execute_result"
    }
   ],
   "source": [
    "y_val.shape"
   ]
  },
  {
   "cell_type": "code",
   "execution_count": 38,
   "id": "f02fdde3-e16d-4e0b-a019-0c2432a62ef3",
   "metadata": {},
   "outputs": [
    {
     "name": "stdout",
     "output_type": "stream",
     "text": [
      "Epoch 1/20\n",
      "71/71 [==============================] - 7s 72ms/step - loss: 0.0293 - accuracy: 0.9947 - recall: 0.9938 - precision: 0.9947 - val_loss: 0.4256 - val_accuracy: 0.9049 - val_recall: 0.8908 - val_precision: 0.9036\n",
      "Epoch 2/20\n",
      "71/71 [==============================] - 4s 52ms/step - loss: 0.0135 - accuracy: 0.9991 - recall: 0.9965 - precision: 0.9991 - val_loss: 0.4456 - val_accuracy: 0.8944 - val_recall: 0.8944 - val_precision: 0.8975\n",
      "Epoch 3/20\n",
      "71/71 [==============================] - 4s 52ms/step - loss: 0.0080 - accuracy: 1.0000 - recall: 1.0000 - precision: 1.0000 - val_loss: 0.3723 - val_accuracy: 0.9155 - val_recall: 0.9085 - val_precision: 0.9214\n",
      "Epoch 4/20\n",
      "71/71 [==============================] - 4s 52ms/step - loss: 0.0077 - accuracy: 0.9982 - recall: 0.9982 - precision: 0.9982 - val_loss: 0.3923 - val_accuracy: 0.8979 - val_recall: 0.8944 - val_precision: 0.9007\n",
      "Epoch 5/20\n",
      "71/71 [==============================] - 4s 51ms/step - loss: 0.0100 - accuracy: 0.9982 - recall: 0.9982 - precision: 0.9982 - val_loss: 0.4001 - val_accuracy: 0.8944 - val_recall: 0.8873 - val_precision: 0.9130\n",
      "Epoch 6/20\n",
      "71/71 [==============================] - 4s 52ms/step - loss: 0.0053 - accuracy: 1.0000 - recall: 1.0000 - precision: 1.0000 - val_loss: 0.4119 - val_accuracy: 0.9049 - val_recall: 0.9049 - val_precision: 0.9081\n",
      "Epoch 7/20\n",
      "71/71 [==============================] - 4s 52ms/step - loss: 0.0054 - accuracy: 1.0000 - recall: 1.0000 - precision: 1.0000 - val_loss: 0.3926 - val_accuracy: 0.8944 - val_recall: 0.8944 - val_precision: 0.9104\n",
      "Epoch 8/20\n",
      "71/71 [==============================] - 4s 52ms/step - loss: 0.0034 - accuracy: 1.0000 - recall: 1.0000 - precision: 1.0000 - val_loss: 0.3952 - val_accuracy: 0.9049 - val_recall: 0.9014 - val_precision: 0.9110\n",
      "Epoch 9/20\n",
      "71/71 [==============================] - 4s 52ms/step - loss: 0.0033 - accuracy: 1.0000 - recall: 1.0000 - precision: 1.0000 - val_loss: 0.3961 - val_accuracy: 0.8979 - val_recall: 0.8908 - val_precision: 0.9036\n",
      "Epoch 10/20\n",
      "71/71 [==============================] - 4s 52ms/step - loss: 0.0031 - accuracy: 1.0000 - recall: 1.0000 - precision: 1.0000 - val_loss: 0.3971 - val_accuracy: 0.9049 - val_recall: 0.9049 - val_precision: 0.9146\n",
      "Epoch 11/20\n",
      "71/71 [==============================] - 4s 52ms/step - loss: 0.0029 - accuracy: 1.0000 - recall: 1.0000 - precision: 1.0000 - val_loss: 0.3914 - val_accuracy: 0.9014 - val_recall: 0.8944 - val_precision: 0.9071\n",
      "Epoch 12/20\n",
      "71/71 [==============================] - 4s 53ms/step - loss: 0.0025 - accuracy: 1.0000 - recall: 1.0000 - precision: 1.0000 - val_loss: 0.3786 - val_accuracy: 0.9155 - val_recall: 0.9120 - val_precision: 0.9184\n",
      "Epoch 13/20\n",
      "71/71 [==============================] - 4s 53ms/step - loss: 0.0027 - accuracy: 1.0000 - recall: 1.0000 - precision: 1.0000 - val_loss: 0.4019 - val_accuracy: 0.9014 - val_recall: 0.9014 - val_precision: 0.9046\n",
      "Epoch 14/20\n",
      "71/71 [==============================] - 4s 52ms/step - loss: 0.0026 - accuracy: 1.0000 - recall: 1.0000 - precision: 1.0000 - val_loss: 0.3739 - val_accuracy: 0.9085 - val_recall: 0.9049 - val_precision: 0.9113\n",
      "Epoch 15/20\n",
      "71/71 [==============================] - 4s 52ms/step - loss: 0.0023 - accuracy: 1.0000 - recall: 1.0000 - precision: 1.0000 - val_loss: 0.3969 - val_accuracy: 0.9014 - val_recall: 0.8944 - val_precision: 0.9104\n",
      "Epoch 16/20\n",
      "71/71 [==============================] - 4s 52ms/step - loss: 0.0024 - accuracy: 1.0000 - recall: 1.0000 - precision: 1.0000 - val_loss: 0.3896 - val_accuracy: 0.9155 - val_recall: 0.9120 - val_precision: 0.9184\n",
      "Epoch 17/20\n",
      "71/71 [==============================] - 4s 53ms/step - loss: 0.0020 - accuracy: 1.0000 - recall: 1.0000 - precision: 1.0000 - val_loss: 0.3879 - val_accuracy: 0.9085 - val_recall: 0.9085 - val_precision: 0.9181\n",
      "Epoch 18/20\n",
      "71/71 [==============================] - 4s 52ms/step - loss: 0.0018 - accuracy: 1.0000 - recall: 1.0000 - precision: 1.0000 - val_loss: 0.3838 - val_accuracy: 0.9049 - val_recall: 0.8979 - val_precision: 0.9075\n",
      "Epoch 19/20\n",
      "71/71 [==============================] - 4s 53ms/step - loss: 0.0024 - accuracy: 1.0000 - recall: 1.0000 - precision: 1.0000 - val_loss: 0.3960 - val_accuracy: 0.9085 - val_recall: 0.9085 - val_precision: 0.9214\n",
      "Epoch 20/20\n",
      "71/71 [==============================] - 4s 52ms/step - loss: 0.0028 - accuracy: 1.0000 - recall: 1.0000 - precision: 1.0000 - val_loss: 0.3925 - val_accuracy: 0.9155 - val_recall: 0.9120 - val_precision: 0.9152\n"
     ]
    }
   ],
   "source": [
    "\n",
    "history = model.fit(\n",
    "    X_train, y_train,\n",
    "    validation_data=(X_val, y_val),\n",
    "    batch_size=BATCH_SIZE,\n",
    "    epochs=EPOCHS,\n",
    ")"
   ]
  },
  {
   "cell_type": "code",
   "execution_count": 39,
   "id": "db6637af-4a86-497b-9ff3-348e5bae4fe5",
   "metadata": {},
   "outputs": [
    {
     "name": "stdout",
     "output_type": "stream",
     "text": [
      "Training complete and model saved.\n"
     ]
    }
   ],
   "source": [
    "model.save(\"resnet_audio_classifier.h5\")\n",
    "import pickle\n",
    "with open(\"label_encoder.pkl\", \"wb\") as f:\n",
    "    pickle.dump(label_encoder, f)\n",
    "\n",
    "print(\"Training complete and model saved.\")"
   ]
  },
  {
   "cell_type": "markdown",
   "id": "19aa0781-fd60-45a1-86bf-d980d52d8ed9",
   "metadata": {},
   "source": [
    "# Loding Model"
   ]
  },
  {
   "cell_type": "code",
   "execution_count": 57,
   "id": "53581111-048d-4935-8a6a-d24686296fe5",
   "metadata": {},
   "outputs": [],
   "source": [
    "model = tf.keras.models.load_model(\"resnet_audio_classifier.h5\")\n",
    "with open(\"label_encoder.pkl\", \"rb\") as f:\n",
    "    label_encoder = pickle.load(f)\n",
    "\n",
    "IMG_HEIGHT, IMG_WIDTH = 224, 224\n",
    "\n"
   ]
  },
  {
   "cell_type": "markdown",
   "id": "4ed819b4-b0df-45bc-ac69-ff993a29783c",
   "metadata": {},
   "source": [
    "# Model evaluation"
   ]
  },
  {
   "cell_type": "code",
   "execution_count": 42,
   "id": "77c1c78b-8f0f-4b32-9e5f-9780314a7321",
   "metadata": {},
   "outputs": [
    {
     "name": "stdout",
     "output_type": "stream",
     "text": [
      "9/9 [==============================] - 1s 109ms/step\n",
      "F1 score (macro) : 0.866211987169434\n",
      "              precision    recall  f1-score   support\n",
      "\n",
      "           0       0.92      1.00      0.96        12\n",
      "           1       0.82      0.88      0.85        16\n",
      "           2       0.78      0.78      0.78        18\n",
      "           3       0.99      0.96      0.97       159\n",
      "           4       0.94      0.71      0.81        21\n",
      "           5       0.83      1.00      0.91        15\n",
      "           6       0.84      0.95      0.89        22\n",
      "           7       0.71      0.81      0.76        21\n",
      "\n",
      "    accuracy                           0.92       284\n",
      "   macro avg       0.85      0.89      0.87       284\n",
      "weighted avg       0.92      0.92      0.92       284\n",
      "\n"
     ]
    }
   ],
   "source": [
    "import numpy as np\n",
    "from sklearn.metrics import f1_score, classification_report\n",
    "\n",
    "# Prédictions du modèle\n",
    "y_pred_probs = model.predict(X_val)\n",
    "y_pred = np.argmax(y_pred_probs, axis=1)\n",
    "\n",
    "# Labels vrais (ajuste selon ton format)\n",
    "y_true = np.argmax(y_val, axis=1) if y_val.ndim == 2 else y_val\n",
    "\n",
    "# Calcul du F1 score macro\n",
    "f1 = f1_score(y_true, y_pred, average='macro')\n",
    "print(\"F1 score (macro) :\", f1)\n",
    "\n",
    "# Rapport complet\n",
    "print(classification_report(y_true, y_pred))"
   ]
  },
  {
   "cell_type": "markdown",
   "id": "d12bdaf9-d0b8-4a1b-9aa1-adb4483d64b5",
   "metadata": {},
   "source": [
    "### Predictions"
   ]
  },
  {
   "cell_type": "code",
   "execution_count": 62,
   "id": "96ee1add-162e-4830-998c-276a81e4006d",
   "metadata": {},
   "outputs": [
    {
     "name": "stdout",
     "output_type": "stream",
     "text": [
      "9/9 [==============================] - 1s 108ms/step\n"
     ]
    }
   ],
   "source": [
    "y_pred_probs = model.predict(X_val)\n",
    "y_pred = np.argmax(y_pred_probs, axis=1)\n",
    "y_true = np.argmax(y_val, axis=1) if y_val.ndim == 2 else y_val"
   ]
  },
  {
   "cell_type": "markdown",
   "id": "1604aa94-d4ef-44a8-974e-968c3fc8f0f7",
   "metadata": {},
   "source": [
    "### Classes"
   ]
  },
  {
   "cell_type": "code",
   "execution_count": 63,
   "id": "48902aad-a059-48b2-a1dd-08f70bd01426",
   "metadata": {},
   "outputs": [],
   "source": [
    "classes = label_encoder.classes_\n",
    "n_classes = len(classes)\n",
    "y_true_bin = label_binarize(y_true, classes=np.arange(n_classes))"
   ]
  },
  {
   "cell_type": "markdown",
   "id": "f44d669e-bc97-4fee-804d-c0b89d96bd28",
   "metadata": {},
   "source": [
    "### F1-Scores"
   ]
  },
  {
   "cell_type": "code",
   "execution_count": 64,
   "id": "34b2ab36-5872-4bee-897e-7b1847e85285",
   "metadata": {},
   "outputs": [
    {
     "name": "stdout",
     "output_type": "stream",
     "text": [
      "F1 macro : 0.866211987169434\n",
      "F1 micro : 0.9154929577464789\n",
      "F1 weighted : 0.91622699400344\n"
     ]
    }
   ],
   "source": [
    "print(\"F1 macro :\", f1_score(y_true, y_pred, average='macro'))\n",
    "print(\"F1 micro :\", f1_score(y_true, y_pred, average='micro'))\n",
    "print(\"F1 weighted :\", f1_score(y_true, y_pred, average='weighted'))"
   ]
  },
  {
   "cell_type": "markdown",
   "id": "7e6ea987-4159-44ae-9152-8af234904c78",
   "metadata": {},
   "source": [
    "### Résultats :\n",
    "* Macro F1 = 0.866\n",
    "\n",
    "* Micro F1 = 0.915\n",
    "\n",
    "* Weighted F1 = 0.916\n",
    "\n",
    "##  Signification des types de F1-score :\n",
    "### F1 Macro (F1_macro = 0.866)\n",
    "* Calcule le F1-score indépendamment pour chaque classe, puis fait la moyenne simple.\n",
    "\n",
    "* N’implique pas les proportions (déséquilibre) des classes dans le calcul.\n",
    "\n",
    "### F1 Micro (F1_micro = 0.915)\n",
    "* Regroupe les vrais positifs (TP), faux positifs (FP) et faux négatifs (FN) de toutes les classes avant de calculer le F1-score.\n",
    "\n",
    "* Favorise naturellement les classes majoritaires, car le calcul est dominé par leur fréquence.\n",
    "\n",
    "### F1 Weighted (F1_weighted = 0.916)\n",
    "* Calcule un F1-score par classe, puis fait une moyenne pondérée selon le nombre d’échantillons (support) dans chaque classe.\n",
    "\n",
    "* Idéal pour les jeux de données déséquilibrés, car il reflète la réalité du dataset.\n",
    "\n",
    "### Commentaire global\n",
    "Les scores F1 montrent que ton modèle est très performant globalement (micro et weighted > 0.91).\n",
    "Le score macro relativement élevé (0.866) indique qu’il ne sacrifie pas la performance sur les classes minoritaires, ce qui est essentiel dans un contexte déséquilibré.\n",
    "Le faible écart entre macro, micro, et weighted suggère que le modèle généralise bien tout en étant juste entre classes."
   ]
  },
  {
   "cell_type": "markdown",
   "id": "18b50a2e-9fae-4b97-8340-884eef943279",
   "metadata": {},
   "source": [
    "# Matrice de confusion"
   ]
  },
  {
   "cell_type": "code",
   "execution_count": 65,
   "id": "b749017a-8e1c-46f3-a390-f4e4df3dede0",
   "metadata": {},
   "outputs": [
    {
     "data": {
      "image/png": "[encoded data removed]",
      "text/plain": [
       "<Figure size 1000x800 with 2 Axes>"
      ]
     },
     "metadata": {},
     "output_type": "display_data"
    }
   ],
   "source": [
    "cm = confusion_matrix(y_true, y_pred)\n",
    "plt.figure(figsize=(10, 8))\n",
    "sns.heatmap(cm, annot=True, fmt=\"d\", cmap=\"Blues\", xticklabels=classes, yticklabels=classes)\n",
    "plt.title(\"Confusion Matrix\")\n",
    "plt.xlabel(\"Predicted Label\")\n",
    "plt.ylabel(\"True Label\")\n",
    "plt.show()"
   ]
  },
  {
   "cell_type": "markdown",
   "id": "a32ab81a-2a32-4e48-bd9f-5f4a9a26ba43",
   "metadata": {},
   "source": [
    "# Rapport Complet"
   ]
  },
  {
   "cell_type": "code",
   "execution_count": 66,
   "id": "5cb41aea-59de-4df1-818e-cca141e7f3d1",
   "metadata": {},
   "outputs": [
    {
     "data": {
      "image/png": "[encoded data removed]",
      "text/plain": [
       "<Figure size 640x480 with 2 Axes>"
      ]
     },
     "metadata": {},
     "output_type": "display_data"
    }
   ],
   "source": [
    "report_dict = classification_report(y_true, y_pred, target_names=classes, output_dict=True)\n",
    "report_df = sns.heatmap(\n",
    "    pd.DataFrame(report_dict).iloc[:-1, :-1].T,\n",
    "    annot=True, cmap=\"YlGnBu\"\n",
    ")\n",
    "plt.title(\"Classification Report (Precision, Recall, F1)\")\n",
    "plt.show()"
   ]
  },
  {
   "cell_type": "markdown",
   "id": "c8bf2cab-d00f-40a2-8d24-a14cc7fe6190",
   "metadata": {},
   "source": [
    "# Prediction prep"
   ]
  },
  {
   "cell_type": "code",
   "execution_count": 56,
   "id": "80557030-12cb-426f-9926-894f290ac4b5",
   "metadata": {},
   "outputs": [],
   "source": [
    "def preprocess_audio(file_path):\n",
    "    y, sr = librosa.load(file_path, sr=None)\n",
    "    mel = librosa.feature.melspectrogram(y=y, sr=sr, n_mels=128)\n",
    "    mel_db = librosa.power_to_db(mel, ref=np.max)\n",
    "    mel_resized = tf.image.resize(mel_db[..., np.newaxis], (IMG_HEIGHT, IMG_WIDTH)).numpy()\n",
    "    mel_rgb = np.repeat(mel_resized, 3, axis=-1)  # Convert to 3 channels\n",
    "    mel_rgb = np.expand_dims(mel_rgb, axis=0)  # Add batch dimension\n",
    "    return mel_rgb\n",
    "\n",
    "def predict(file_path):\n",
    "    input_data = preprocess_audio(file_path)\n",
    "\n",
    "    prediction = model.predict(input_data)\n",
    "    predicted_label = label_encoder.inverse_transform([np.argmax(prediction)])\n",
    "\n",
    "    print(f\"Predicted class: {predicted_label[0]}\")"
   ]
  },
  {
   "cell_type": "markdown",
   "id": "1d68bb3b-a61e-49ab-88c0-878f7009b0a6",
   "metadata": {},
   "source": [
    "# Testing Asthma\n",
    "We started to test with asthma because it is the less abondant class (originally 20 seconds)"
   ]
  },
  {
   "cell_type": "code",
   "execution_count": 53,
   "id": "825b2fe6-cc3e-42d7-97ff-ba39477bc423",
   "metadata": {},
   "outputs": [
    {
     "name": "stdout",
     "output_type": "stream",
     "text": [
      "1/1 [==============================] - 0s 29ms/step\n",
      "Predicted class: Asthma\n"
     ]
    }
   ],
   "source": [
    "predict(\"./ICBHI_final_database_preprocessed_normalized/103_2b2_Ar_mc_LittC2SE_aug_4.wav\")"
   ]
  },
  {
   "cell_type": "markdown",
   "id": "245f3ae1-1f0d-44e2-80b0-cd4cd3910b8f",
   "metadata": {},
   "source": [
    "# Testing LRTI \n",
    "it is the second less abondant class originally about 40 seconds"
   ]
  },
  {
   "cell_type": "code",
   "execution_count": 54,
   "id": "b9d9debf-c4a0-42f0-8cbe-3279e36c8d16",
   "metadata": {},
   "outputs": [
    {
     "name": "stdout",
     "output_type": "stream",
     "text": [
      "1/1 [==============================] - 0s 29ms/step\n",
      "Predicted class: LRTI\n"
     ]
    }
   ],
   "source": [
    "predict(\"./ICBHI_final_database_preprocessed_normalized/108_1b1_Al_sc_Meditron_aug_1.wav\")"
   ]
  },
  {
   "cell_type": "code",
   "execution_count": null,
   "id": "286ee3f1-41c9-4c57-9756-7360fef885c1",
   "metadata": {},
   "outputs": [],
   "source": []
  }
 ],
 "metadata": {
  "kernelspec": {
   "display_name": "Python 3 (ipykernel)",
   "language": "python",
   "name": "python3"
  },
  "language_info": {
   "codemirror_mode": {
    "name": "ipython",
    "version": 3
   },
   "file_extension": ".py",
   "mimetype": "text/x-python",
   "name": "python",
   "nbconvert_exporter": "python",
   "pygments_lexer": "ipython3",
   "version": "3.9.7"
  }
 },
 "nbformat": 4,
 "nbformat_minor": 5
}
